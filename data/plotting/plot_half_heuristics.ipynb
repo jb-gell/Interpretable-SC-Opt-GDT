{
 "cells": [
  {
   "cell_type": "code",
   "execution_count": null,
   "metadata": {},
   "outputs": [],
   "source": [
    "import numpy as np\n",
    "import matplotlib.pyplot as plt\n",
    "import pandas as pd\n",
    "import seaborn as sn\n",
    "import json\n",
    "from pathlib import Path\n",
    "import math\n",
    "import scienceplots\n",
    "import latex\n",
    "from utils import plot_quad_plot"
   ]
  },
  {
   "cell_type": "code",
   "execution_count": null,
   "metadata": {},
   "outputs": [],
   "source": [
    "plot_quad_plot('GA', [50, 30, 20], '../half_half_init/', [3, 5, 10, 13], 'a')"
   ]
  },
  {
   "cell_type": "code",
   "execution_count": null,
   "metadata": {},
   "outputs": [],
   "source": [
    "plot_quad_plot('GA', [40, 40, 20], '../half_half_init/', [3, 5, 10, 13], 'b') "
   ]
  },
  {
   "cell_type": "code",
   "execution_count": null,
   "metadata": {},
   "outputs": [],
   "source": [
    "plot_quad_plot('GA', [30, 40, 30], '../half_half_init/', [3, 5, 10, 13], 'c') "
   ]
  },
  {
   "cell_type": "code",
   "execution_count": null,
   "metadata": {},
   "outputs": [],
   "source": [
    "plot_quad_plot('GA', [20, 50, 30], '../half_half_init/', [3, 5, 10, 13], 'd') "
   ]
  },
  {
   "cell_type": "code",
   "execution_count": null,
   "metadata": {},
   "outputs": [],
   "source": [
    "plot_quad_plot('GA', [10, 50, 40], '../half_half_init/', [3, 5, 10, 13], 'e') "
   ]
  }
 ],
 "metadata": {
  "kernelspec": {
   "display_name": "base",
   "language": "python",
   "name": "python3"
  },
  "language_info": {
   "codemirror_mode": {
    "name": "ipython",
    "version": 3
   },
   "file_extension": ".py",
   "mimetype": "text/x-python",
   "name": "python",
   "nbconvert_exporter": "python",
   "pygments_lexer": "ipython3",
   "version": "3.10.9"
  }
 },
 "nbformat": 4,
 "nbformat_minor": 2
}
